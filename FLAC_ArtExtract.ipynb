{
  "nbformat": 4,
  "nbformat_minor": 0,
  "metadata": {
    "colab": {
      "name": "FLAC_ArtExtract.ipynb",
      "provenance": [],
      "toc_visible": true,
      "include_colab_link": true
    },
    "kernelspec": {
      "name": "python3",
      "display_name": "Python 3"
    },
    "language_info": {
      "name": "python"
    }
  },
  "cells": [
    {
      "cell_type": "markdown",
      "metadata": {
        "id": "view-in-github",
        "colab_type": "text"
      },
      "source": [
        "<a href=\"https://colab.research.google.com/github/TheKVT/FLAC_ArtExtract/blob/master/FLAC_ArtExtract.ipynb\" target=\"_parent\"><img src=\"https://colab.research.google.com/assets/colab-badge.svg\" alt=\"Open In Colab\"/></a>"
      ]
    },
    {
      "cell_type": "code",
      "metadata": {
        "id": "rkuSSJrP8O3V",
        "cellView": "form"
      },
      "source": [
        "#@markdown <h3> ⬅️  Run This Cell to Mount Gdrive</h3> \n",
        "from google.colab import drive\n",
        "drive.mount('/content/drive')"
      ],
      "execution_count": null,
      "outputs": []
    },
    {
      "cell_type": "code",
      "metadata": {
        "id": "pNTTH2jV8YN7",
        "cellView": "form"
      },
      "source": [
        "#@markdown <h3>⬅️ Run This Cell to Export Album Art from FLAC Audio</h3>\n",
        "Flac_Path = \"\" #@param {type:\"string\"}\n",
        "Save_Path = \"\" #@param {type:\"string\"}\n",
        " \n",
        "import IPython\n",
        "import ipywidgets as widgets\n",
        " \n",
        "from IPython.display import HTML, clear_output\n",
        " \n",
        "loadingBtn = widgets.Button(description = \"Exporting\",\n",
        "                          disabled = True,\n",
        "                          button_style = 'info', # 'success', 'info', 'warning', 'danger' or '' \n",
        "                          tooltip = \"Exporting\",\n",
        "                          icon = 'check')\n",
        "display(loadingBtn)\n",
        " \n",
        "get_ipython().system_raw(\"rm -rf /content/sample_data/ && sudo apt update && sudo apt install software-properties-common\")\n",
        "get_ipython().system_raw(\"pip3 -q install mutagen\")\n",
        " \n",
        "%cd $Save_Path\n",
        "clear_output()\n",
        " \n",
        "from mutagen.flac import FLAC, Picture\n",
        "song = Flac_Path\n",
        "var = FLAC(song)\n",
        "pics = var.pictures\n",
        "print (pics)\n",
        "for p in pics:\n",
        "    if p.type == 3: #front cover\n",
        "        display(HTML(\"<center><h2 style=\\\"font-family:Trebuchet MS;color:#00b24c;\\\">Album Art Successfully Exported!</h2><br></center>\")) \n",
        "        with open(\"cover.jpg\", \"wb\") as f:\n",
        "            f.write(p.data)"
      ],
      "execution_count": null,
      "outputs": []
    },
    {
      "cell_type": "markdown",
      "metadata": {
        "id": "Z_cLnNmGjpEI"
      },
      "source": [
        "## __Upload image to *Telegra.ph & transfer.sh*__\n",
        "\n",
        "---\n",
        "\n"
      ]
    },
    {
      "cell_type": "code",
      "metadata": {
        "id": "42nUUxZNU4cK",
        "cellView": "form"
      },
      "source": [
        "#@markdown ### This cell upload images to [Telegra.ph](https://telegra.ph/upload) know more at [here](https://github.com/TheKVT/FLAC_ArtExtract#readme)\n",
        "#@markdown **you can paste url or file**\n",
        "file_path = \"\" #@param {type:\"string\"}\n",
        "TYPE = \"URL\" #@param [\"URL\", \"FILE\"]\n",
        "\n",
        "from IPython.display import clear_output\n",
        "!pip install html-telegraph-poster\n",
        "clear_output()\n",
        "\n",
        "print('\\033[1m' + 'Here your URL' + '\\033[0m' \" —\" )\n",
        "\n",
        "from html_telegraph_poster.upload_images import upload_image\n",
        "# upload file\n",
        "upload_image(file_path)"
      ],
      "execution_count": null,
      "outputs": []
    },
    {
      "cell_type": "code",
      "metadata": {
        "id": "Q8jqwC5gkOry",
        "cellView": "form"
      },
      "source": [
        "import os, sys, re\n",
        "\n",
        "#@markdown ##Upload to [transfer.sh](https://transfer.sh)\n",
        "#@markdown Add *file_name* with your custom name and default extension\n",
        "\n",
        "file_path = \"\" #@param {type:\"string\"}\n",
        "file_name = \"\" #@param {type:\"string\"}\n",
        "max_downloads = \"66\" #@param {type:\"string\"}\n",
        "store_days = \"14\" #@param [\"1\", \"2\", \"3\", \"4\", \"5\", \"6\", \"7\", \"8\", \"9\", \"10\", \"11\", \"12\", \"13\", \"14\"]\n",
        "\n",
        "\n",
        "\n",
        "os.environ['inputFile'] = file_path \n",
        "os.environ['maxDl'] = max_downloads\n",
        "os.environ['daysStore'] = store_days\n",
        "os.environ['fileName'] = file_name\n",
        "\n",
        "print(\"Here your image link:- \")\n",
        "\n",
        "!curl -H \"Max-Downloads: \"$maxDl\"\" -H \"Max-Days: \"$daysStore\"\" --upload-file \"$inputFile\" https://transfer.sh/\"$fileName\""
      ],
      "execution_count": null,
      "outputs": []
    }
  ]
}