{
  "nbformat": 4,
  "nbformat_minor": 0,
  "metadata": {
    "colab": {
      "name": "Artwork_Extractor.ipynb",
      "provenance": [],
      "toc_visible": true
    },
    "kernelspec": {
      "name": "python3",
      "display_name": "Python 3"
    },
    "language_info": {
      "name": "python"
    }
  },
  "cells": [
    {
      "cell_type": "markdown",
      "metadata": {
        "id": "4sXeh7Tdx1v-"
      },
      "source": [
        "## <img src=\"https://upload.wikimedia.org/wikipedia/commons/thumb/1/12/Google_Drive_icon_%282020%29.svg/538px-Google_Drive_icon_%282020%29.svg.png\" height=\"40\" align=\"left\"/><font size=6>&nbsp;&nbsp;Google Drive</font>"
      ]
    },
    {
      "cell_type": "code",
      "metadata": {
        "id": "LkGoo1n9PNgj",
        "cellView": "form"
      },
      "source": [
        "# ============================= FORM ============================= #\n",
        "# @markdown <h3>← Mount/Unmount Google Drive</h3>\n",
        "# @markdown <p>This cell will mount/unmount Google Drive to /content/drive/</p></br>\n",
        "MODE = \"MOUNT\" #@param [\"MOUNT\", \"UNMOUNT\"]\n",
        "# ================================================================ #\n",
        "\n",
        "from IPython.display import clear_output\n",
        "from google.colab import drive\n",
        "drive.mount._DEBUG = False\n",
        "if MODE == \"MOUNT\":\n",
        "  drive.mount('/content/drive', force_remount=True)\n",
        "elif MODE == \"UNMOUNT\":\n",
        "  try:\n",
        "    drive.flush_and_unmount()\n",
        "  except ValueError:\n",
        "    pass\n",
        "  get_ipython().system_raw(\"rm -rf /root/.config/Google/DriveFS\")\n",
        "\n",
        "clear_output()"
      ],
      "execution_count": null,
      "outputs": []
    },
    {
      "cell_type": "markdown",
      "metadata": {
        "id": "ZHttILoajdJA"
      },
      "source": [
        "## Extract Album Artwork from Any Audio File"
      ]
    },
    {
      "cell_type": "markdown",
      "metadata": {
        "id": "iy1R9-MrFoi9"
      },
      "source": [
        "<img src=\"https://cdn.jsdelivr.net/gh/TheKVT/Artwork_Extractor/images/audio.png\" alt=\"audio-image\" width=\"auto\" height=\"auto\"/>"
      ]
    },
    {
      "cell_type": "code",
      "metadata": {
        "cellView": "form",
        "id": "97Af28sNkegW"
      },
      "source": [
        "#@markdown <h4><b>Convert your file to mp3 by changing it won't encode image in audio file</b></h4>\n",
        "\n",
        "import os, sys, re\n",
        "\n",
        "audio_file_path = \"\" #@param {type:\"string\"}\n",
        "\n",
        "\n",
        "output_file_path = re.search(\"^[\\/].+\\/\", audio_file_path)\n",
        "output_file_path_raw = output_file_path.group(0)\n",
        "delsplit = re.search(\"\\/(?:.(?!\\/))+$\", audio_file_path)\n",
        "filename = re.sub(\"^[\\/]\", \"\", delsplit.group(0))\n",
        "filename_raw = re.sub(\".{4}$\", \"\", filename)\n",
        "\n",
        "os.environ['inputFile'] = audio_file_path\n",
        "os.environ['outputPath'] = output_file_path_raw\n",
        "os.environ['fileName'] = filename_raw\n",
        "\n",
        "!ffmpeg -i \"$inputFile\"  -b:a 320k -acodec libmp3lame  -vcodec copy \"$outputPath\"/\"$fileName\"converted.\"mp3\""
      ],
      "execution_count": null,
      "outputs": []
    },
    {
      "cell_type": "code",
      "metadata": {
        "cellView": "form",
        "id": "yhEEA_ASlynw"
      },
      "source": [
        "#@title Extract Album Art from MP3 Audio\n",
        "File_Path = \"\" #@param {type:\"string\"}\n",
        "Output_Path = \"\" #@param {type:\"string\"}\n",
        "\n",
        "import os\n",
        "from IPython.display import HTML,clear_output\n",
        "\n",
        "!pip install eyeD3\n",
        "\n",
        "clear_output() \n",
        "\n",
        "os.makedirs(Output_Path, exist_ok=True)\n",
        "\n",
        "!eyeD3 --write-images \"$Output_Path\" \"$File_Path\"\n",
        "\n",
        "clear_output()\n",
        "\n",
        "display(HTML(\"<center><h2 style=\\\"color:#00b24c;\\\"> Album Art Successfully Extracted..!!</h2><br></center>\"))"
      ],
      "execution_count": null,
      "outputs": []
    },
    {
      "cell_type": "code",
      "metadata": {
        "id": "vIbpId7x-7cl",
        "cellView": "form"
      },
      "source": [
        "#@title Extract Album Art from FLAC Audio\n",
        "Flac_Path = \"\" #@param {type:\"string\"}\n",
        "Output_Path = \"\" #@param {type:\"string\"}\n",
        " \n",
        "import os \n",
        "import IPython\n",
        "import ipywidgets as widgets\n",
        " \n",
        "from IPython.display import HTML, clear_output\n",
        "print(\"Downloading...\") \n",
        "get_ipython().system_raw(\"rm -rf /content/sample_data/ && sudo apt update && sudo apt install software-properties-common\")\n",
        "get_ipython().system_raw(\"pip3 -q install mutagen\")\n",
        " \n",
        "# os.makedirs(Output_Path, exist_ok=True) \n",
        "%cd $Output_Path\n",
        "clear_output()\n",
        " \n",
        "from mutagen.flac import FLAC, Picture\n",
        "song = Flac_Path\n",
        "var = FLAC(song)\n",
        "pics = var.pictures\n",
        "print (pics)\n",
        "for p in pics:\n",
        "    if p.type == 3: #front cover\n",
        "        display(HTML(\"<center><h2 style=\\\"font-family:Merriweather;color:#00b24c;\\\">Album Art Successfully Exported!</h2><br></center>\")) \n",
        "        with open(\"cover.jpg\", \"wb\") as f:\n",
        "            f.write(p.data)"
      ],
      "execution_count": null,
      "outputs": []
    },
    {
      "cell_type": "markdown",
      "metadata": {
        "id": "lmUJa5lsjb3S"
      },
      "source": [
        "## Extract Album Artwork from [Apple Music](https://music.apple.com/)(iTunes) and [Bugs!](https://music.bugs.co.kr/)"
      ]
    },
    {
      "cell_type": "markdown",
      "metadata": {
        "id": "I6xBDOQ0Gf_E"
      },
      "source": [
        "<img src=\"https://cdn.jsdelivr.net/gh/TheKVT/Artwork_Extractor/images/Apple.png\" alt=\"Appleaudio-image\" width=\"auto\" height=\"auto\"/>"
      ]
    },
    {
      "cell_type": "code",
      "metadata": {
        "id": "5HK8jCf-_UJe",
        "cellView": "form"
      },
      "source": [
        "\n",
        "##################################################\n",
        "#\n",
        "# Code Author: jamescarter2001\n",
        "#\n",
        "# Remastered by TheKVT\n",
        "#\n",
        "##################################################\n",
        "\n",
        "# ============================= FORM ============================= #\n",
        "#@title\n",
        "Mode = \"Apple\" #@param [\"Apple\", \"Bugs\"]\n",
        "# @markdown > Select mode (Apple Music / Bugs)\n",
        "# @markdown ---\n",
        "url = \"\" #@param {type:\"string\"}\n",
        "Picture_Resoultion = \"3000\" #@param [\"1000\", \"1500\", \"2000\", \"2500\", \"3000\"]\n",
        "country = \"us\" #@param {type:\"string\"}\n",
        "# @markdown > `country` only needed for `Apple`\n",
        "output_path = \"\" #@param {type:\"string\"}\n",
        "variable_name = \"\" #@param {type:\"string\"}\n",
        "\n",
        "# ================================================================ #\n",
        "\n",
        "!pip install pycountry wget bs4\n",
        "\n",
        "import requests\n",
        "import json\n",
        "import os\n",
        "import pycountry\n",
        "import wget\n",
        "from urllib.request import urlopen\n",
        "from bs4 import BeautifulSoup\n",
        "from IPython.display import clear_output\n",
        "os.makedirs(output_path, exist_ok=True)\n",
        "\n",
        "clear_output()\n",
        "\n",
        "############## Apple Music ############\n",
        "if Mode == \"Apple\": \n",
        "   res = Picture_Resoultion\n",
        "\n",
        "   region = pycountry.countries.get(alpha_2=country)\n",
        "\n",
        "   language = \"en_us\"  # ja_jp\n",
        "\n",
        "   link = url.split('/')[-1].split('?')[0]\n",
        "\n",
        "   itunes_endpoint = f'https://itunes.apple.com/lookup?id={link}&country={region.alpha_2}&lang={language}'\n",
        "\n",
        "   response = requests.get(itunes_endpoint)\n",
        "   if response.status_code == 200: \n",
        "    file_name = response.json()[\"results\"][0][\"collectionName\"]\n",
        "    artwork_link = response.json()[\"results\"][0][\"artworkUrl100\"]\n",
        "    artwork_link = artwork_link.replace(\"100x100bb.jpg\", f\"{res}x{res}bb.jpg\")\n",
        "    url = artwork_link\n",
        "    path = output_path\n",
        "    wget.download(url, f'{path}/{file_name}-cover.jpg')\n",
        "    print(\"Downloaded \" + file_name + \" Album ArtWork Sucessfully..!!\")\n",
        "    \n",
        "## if you get \"index error\" means 'item not avilable in apple music of the country you haveentered'\n",
        "\n",
        "############## Bugs ############\n",
        "\n",
        "if Mode == \"Bugs\":\n",
        "  myurl = url\n",
        "  soup = BeautifulSoup(urlopen(myurl), \"lxml\")\n",
        "  kvt = soup.title.get_text()\n",
        "  name = kvt.replace(' - 벅스', '')\n",
        "  resolution = Picture_Resoultion # change resolution in form\n",
        "  artwork_base_url = f'https://image.bugsm.co.kr/album/images/{resolution}'\n",
        "\n",
        "  album_url = url\n",
        "  album_id = album_url.split('/')[-1].split('?')[0]\n",
        "  id = album_id[0:-2]\n",
        "\n",
        "  artwork_url = f'{artwork_base_url}/{id}/{album_id}.jpg'\n",
        "  dl = artwork_url\n",
        "  path = output_path\n",
        "\n",
        "  wget.download(dl, f'{path}/{name}-cover.jpg')\n",
        "  print(\"Downloaded \" + name + \" Album ArtWork Sucessfully..!!\")"
      ],
      "execution_count": null,
      "outputs": []
    },
    {
      "cell_type": "markdown",
      "metadata": {
        "id": "7K3ypkL0mcz_"
      },
      "source": [
        "## Misc"
      ]
    },
    {
      "cell_type": "code",
      "metadata": {
        "id": "1WfhK1aR_yzi",
        "cellView": "form"
      },
      "source": [
        "#@title ##Upload to your image to [transfer.sh](https://transfer.sh)\n",
        "#@markdown In *file_name* add your custom name and default extension\n",
        "\n",
        "file_path = \"\" #@param {type:\"string\"}\n",
        "file_name = \"Album_Cover(TheKVT).jpg\" #@param {type:\"string\"}\n",
        "max_downloads = \"4\" #@param {type:\"string\"}\n",
        "store_days = \"1\" #@param [\"1\", \"2\", \"3\", \"4\", \"5\", \"6\", \"7\", \"8\", \"9\", \"10\", \"11\", \"12\", \"13\", \"14\"]\n",
        "\n",
        "import os,re\n",
        "os.environ['inputFile'] = file_path \n",
        "os.environ['maxDl'] = max_downloads\n",
        "os.environ['daysStore'] = store_days\n",
        "os.environ['fileName'] = file_name\n",
        "\n",
        "mylink = !curl -H \"Max-Downloads: \"$maxDl\"\" -H \"Max-Days: \"$daysStore\"\" --upload-file \"$inputFile\" https://transfer.sh/\"$fileName\"\n",
        "print('Here your image link:-  ' + str(mylink))"
      ],
      "execution_count": null,
      "outputs": []
    },
    {
      "cell_type": "code",
      "metadata": {
        "cellView": "form",
        "id": "5WcoPDC-GrUw"
      },
      "source": [
        "#@title ## Get file Metadata from MediaInfo\n",
        "path = \"\" #@param {type:\"string\"}\n",
        "import os, uuid, re, IPython\n",
        "from IPython.display import HTML\n",
        "import ipywidgets as widgets\n",
        "import time\n",
        "\n",
        "def mediainfo():\n",
        "  display(HTML(\"<br>\"))\n",
        "  display(HTML(\"<br>\"))\n",
        "  get_ipython().system_raw(\"\"\"mediainfo --LogFile=\"/root/.nfo\" \"$path\" \"\"\")\n",
        "  with open('/root/.nfo', 'r') as file:\n",
        "    media = file.read()\n",
        "    media = media.replace(os.path.dirname(path)+\"/\", \"\")\n",
        "  print(media)\n",
        "  get_ipython().system_raw(\"rm -f '/root/.nfo'\")\n",
        "  \n",
        "if not os.path.exists(\"/usr/bin/mediainfo\"):\n",
        "  get_ipython().system_raw(\"apt-get install mediainfo\")\n",
        "  \n",
        "mediainfo()"
      ],
      "execution_count": null,
      "outputs": []
    }
  ]
}