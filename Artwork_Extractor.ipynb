{
  "nbformat": 4,
  "nbformat_minor": 0,
  "metadata": {
    "colab": {
      "name": "FLAC_ArtExtract.ipynb",
      "provenance": [],
      "include_colab_link": true
    },
    "kernelspec": {
      "name": "python3",
      "display_name": "Python 3"
    },
    "language_info": {
      "name": "python"
    }
  },
  "cells": [
    {
      "cell_type": "markdown",
      "metadata": {
        "id": "view-in-github",
        "colab_type": "text"
      },
      "source": [
        "<a href=\"https://colab.research.google.com/github/TheKVT/Artwork_Extractor/blob/master/Artwork_Extractor.ipynb\" target=\"_parent\"><img src=\"https://colab.research.google.com/assets/colab-badge.svg\" alt=\"Open In Colab\"/></a>"
      ]
    },
    {
      "cell_type": "code",
      "metadata": {
        "cellView": "form",
        "id": "xUZTQgm6-y5x"
      },
      "source": [
        "#@markdown <h3> 👈  Run This Cell to Mount Gdrive</h3> \n",
        "from google.colab import drive\n",
        "drive.mount('/content/drive')"
      ],
      "execution_count": null,
      "outputs": []
    },
    {
      "cell_type": "code",
      "metadata": {
        "cellView": "form",
        "id": "vIbpId7x-7cl"
      },
      "source": [
        "\n",
        "#@title This Cell to Extract Album Art from FLAC Audio\n",
        "Flac_Path = \"\" #@param {type:\"string\"}\n",
        "Save_Path = \"\" #@param {type:\"string\"}\n",
        " \n",
        "import IPython\n",
        "import ipywidgets as widgets\n",
        " \n",
        "from IPython.display import HTML, clear_output\n",
        "print(\"Downloading...\") \n",
        "get_ipython().system_raw(\"rm -rf /content/sample_data/ && sudo apt update && sudo apt install software-properties-common\")\n",
        "get_ipython().system_raw(\"pip3 -q install mutagen\")\n",
        " \n",
        "# %cd $Save_Path\n",
        "clear_output()\n",
        " \n",
        "from mutagen.flac import FLAC, Picture\n",
        "song = Flac_Path\n",
        "var = FLAC(song)\n",
        "pics = var.pictures\n",
        "print (pics)\n",
        "for p in pics:\n",
        "    if p.type == 3: #front cover\n",
        "        display(HTML(\"<center><h2 style=\\\"font-family:Merriweather;color:#00b24c;\\\">Album Art Successfully Exported!</h2><br></center>\")) \n",
        "        with open(\"cover.jpg\", \"wb\") as f:\n",
        "            f.write(p.data)"
      ],
      "execution_count": null,
      "outputs": []
    },
    {
      "cell_type": "code",
      "metadata": {
        "cellView": "form",
        "id": "5HK8jCf-_UJe"
      },
      "source": [
        "\n",
        "##################################################\n",
        "#\n",
        "# Code Author: jamescarter2001\n",
        "#\n",
        "# Remastered by TheKVT\n",
        "#\n",
        "##################################################\n",
        "\n",
        "# ============================= FORM ============================= #\n",
        "#@title This Cell can extract  Digital Album Artwork of [Apple Music](https://music.apple.com/) and [Bugs!](https://music.bugs.co.kr/)\n",
        "Mode = \"Apple\" #@param [\"Apple\", \"Bugs\"]\n",
        "# @markdown > Select mode (Apple Music / Bugs)\n",
        "# @markdown ---\n",
        "url = \"\" #@param {type:\"string\"}\n",
        "Picture_Resoultion = \"3000\" #@param [\"1000\", \"1500\", \"2000\", \"2500\", \"3000\"]\n",
        "country = \"us\" #@param {type:\"string\"}\n",
        "# @markdown > `country` only needed for `Apple`\n",
        "output_path = \"\" #@param {type:\"string\"}\n",
        "\n",
        "# ================================================================ #\n",
        "\n",
        "import requests\n",
        "import json\n",
        "import os\n",
        "import pycountry\n",
        "import wget\n",
        "from urllib.request import urlopen\n",
        "from bs4 import BeautifulSoup\n",
        "from IPython.display import clear_output\n",
        "os.makedirs(output_path, exist_ok=True)\n",
        "\n",
        "!pip install pycountry wget bs4\n",
        "clear_output()\n",
        "\n",
        "############## Apple Music ############\n",
        "if Mode == \"Apple\": \n",
        "   res = Picture_Resoultion\n",
        "\n",
        "   region = pycountry.countries.get(alpha_2=country)\n",
        "\n",
        "   language = \"en_us\"  # ja_jp\n",
        "\n",
        "   link = url.split('/')[-1].split('?')[0]\n",
        "\n",
        "   itunes_endpoint = f'https://itunes.apple.com/lookup?id={link}&country={region.alpha_2}&lang={language}'\n",
        "\n",
        "   response = requests.get(itunes_endpoint)\n",
        "   if response.status_code == 200: \n",
        "    file_name = response.json()[\"results\"][0][\"collectionName\"]\n",
        "    artwork_link = response.json()[\"results\"][0][\"artworkUrl100\"]\n",
        "    artwork_link = artwork_link.replace(\"100x100bb.jpg\", f\"{res}x{res}bb.jpg\")\n",
        "    url = artwork_link\n",
        "    path = output_path\n",
        "    wget.download(url, f'{path}/{file_name}-cover.jpg')\n",
        "    print(\"Downloaded \" + file_name + \" Album ArtWork Sucessfully..!!\")\n",
        "    \n",
        "## if you get \"index error\" means 'item not avilable in apple music of the country you haveentered'\n",
        "\n",
        "############## Bugs ############\n",
        "\n",
        "if Mode == \"Bugs\":\n",
        "  myurl = url\n",
        "  soup = BeautifulSoup(urlopen(myurl), \"lxml\")\n",
        "  kvt = soup.title.get_text()\n",
        "  name = kvt.replace(' - 벅스', '')\n",
        "  resolution = Picture_Resoultion # change resolution in form\n",
        "  artwork_base_url = f'https://image.bugsm.co.kr/album/images/{resolution}'\n",
        "\n",
        "  album_url = url\n",
        "  album_id = album_url.split('/')[-1].split('?')[0]\n",
        "  id = album_id[0:-2]\n",
        "\n",
        "  artwork_url = f'{artwork_base_url}/{id}/{album_id}.jpg'\n",
        "  dl = artwork_url\n",
        "  path = output_path\n",
        "\n",
        "  wget.download(dl, f'{path}/{name}-cover.jpg')\n",
        "  print(\"Downloaded \" + name + \" Album ArtWork Sucessfully..!!\")"
      ],
      "execution_count": null,
      "outputs": []
    },
    {
      "cell_type": "code",
      "metadata": {
        "cellView": "form",
        "id": "1WfhK1aR_yzi"
      },
      "source": [
        "\n",
        "import os,re\n",
        "\n",
        "#@title ##Upload to your image to [transfer.sh](https://transfer.sh)\n",
        "#@markdown In *file_name* add your custom name and default extension\n",
        "\n",
        "file_path = \"\" #@param {type:\"string\"}\n",
        "file_name = \"Album_Cover(TheKVT).jpg\" #@param {type:\"string\"}\n",
        "max_downloads = \"4\" #@param {type:\"string\"}\n",
        "store_days = \"1\" #@param [\"1\", \"2\", \"3\", \"4\", \"5\", \"6\", \"7\", \"8\", \"9\", \"10\", \"11\", \"12\", \"13\", \"14\"]\n",
        "\n",
        "os.environ['inputFile'] = file_path \n",
        "os.environ['maxDl'] = max_downloads\n",
        "os.environ['daysStore'] = store_days\n",
        "os.environ['fileName'] = file_name\n",
        "\n",
        "mylink = !curl -H \"Max-Downloads: \"$maxDl\"\" -H \"Max-Days: \"$daysStore\"\" --upload-file \"$inputFile\" https://transfer.sh/\"$fileName\"\n",
        "print('Here your image link:-  ' + str(mylink))"
      ],
      "execution_count": null,
      "outputs": []
    }
  ]
}